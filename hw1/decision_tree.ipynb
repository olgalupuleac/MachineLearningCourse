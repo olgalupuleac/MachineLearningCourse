{
 "cells": [
  {
   "cell_type": "code",
   "execution_count": 79,
   "metadata": {},
   "outputs": [],
   "source": [
    "import numpy as np\n",
    "import pandas as pd\n",
    "cancer = pd.read_csv('cancer.csv')\n",
    "spam = pd.read_csv('spam.csv')"
   ]
  },
  {
   "cell_type": "code",
   "execution_count": 16,
   "metadata": {},
   "outputs": [],
   "source": [
    "from sklearn.preprocessing import MinMaxScaler\n",
    "from sklearn.preprocessing import LabelEncoder\n",
    "\n",
    "def split_features_and_labels(df):\n",
    "    features = MinMaxScaler().fit_transform(df.drop('label', axis=1))\n",
    "    labels = LabelEncoder().fit_transform(df['label'])\n",
    "    return features, labels"
   ]
  },
  {
   "cell_type": "code",
   "execution_count": 17,
   "metadata": {},
   "outputs": [
    {
     "name": "stderr",
     "output_type": "stream",
     "text": [
      "c:\\users\\olga\\appdata\\local\\programs\\python\\python36\\lib\\site-packages\\sklearn\\preprocessing\\data.py:323: DataConversionWarning: Data with input dtype int64, float64 were all converted to float64 by MinMaxScaler.\n",
      "  return self.partial_fit(X, y)\n"
     ]
    }
   ],
   "source": [
    "spam_features, spam_labels = split_features_and_labels(spam)\n",
    "cancer_features, cancer_labels = split_features_and_labels(cancer)"
   ]
  },
  {
   "cell_type": "code",
   "execution_count": 22,
   "metadata": {},
   "outputs": [],
   "source": [
    "from sklearn.model_selection import train_test_split\n",
    "\n",
    "cancer_X_train, cancer_X_test, cancer_y_train, cancer_y_test = train_test_split(cancer_features, cancer_labels, test_size=0.2)\n",
    "spam_X_train, spam_X_test, spam_y_train, spam_y_test = train_test_split(spam_features, spam_labels, test_size=0.2)"
   ]
  },
  {
   "cell_type": "code",
   "execution_count": 71,
   "metadata": {},
   "outputs": [],
   "source": [
    "from collections import Counter\n",
    "import sklearn.metrics \n",
    "class Node:\n",
    "    feature = None\n",
    "    threshold = None\n",
    "    left, right = None, None\n",
    "    answer = None\n",
    "    \n",
    "    def __init__(self, samples, labels, depth):\n",
    "        self.samples = samples\n",
    "        self.labels = labels\n",
    "        self.size = len(labels)\n",
    "        self.depth = depth\n",
    "    \n",
    "    def gini(self, labels):\n",
    "        if len(labels) == 0:\n",
    "            return float('inf')\n",
    "        counter = Counter(labels)\n",
    "        return counter[1] * counter[0] / len(labels) ** 2\n",
    "    \n",
    "    def split(self, max_depth=10):\n",
    "        if self.depth == max_depth:\n",
    "            self.answer = np.count_nonzero(np.logical_not(self.labels)) / self.size, np.count_nonzero(self.labels) / self.size\n",
    "            return\n",
    "        \n",
    "        max_gain = 0\n",
    "        best_feature = None\n",
    "        best_threshold = None\n",
    "        left, right = None, None\n",
    "        \n",
    "        for f in range(self.samples.shape[1]):\n",
    "            cur_f = self.samples[:, f]\n",
    "            for threshold in np.unique(cur_f):\n",
    "                hypothesis = cur_f <= threshold\n",
    "                labels1 = self.labels[hypothesis]\n",
    "                labels2 = self.labels[np.logical_not(hypothesis)]\n",
    "                cur_gini = calc_gini(self.labels)\n",
    "                \n",
    "                inf_gain = self.size * cur_gini - labels1.shape[0] * calc_gini(labels1) - labels2.shape[0] * calc_gini(labels2)\n",
    "                if inf_gain > max_gain and labels1.shape[0] and labels2.shape[0]:\n",
    "                    \n",
    "                    max_gain = inf_gain\n",
    "                    best_feature = f\n",
    "                    best_threshold = threshold\n",
    "                    left, right = hypothesis, np.logical_not(hypothesis)\n",
    "        if best_feature is None:\n",
    "            self.answer = np.count_nonzero(np.logical_not(self.labels)) / self.size, np.count_nonzero(self.labels) / self.size\n",
    "            return\n",
    "        \n",
    "        left = Node(self.samples[left], self.labels[left], self.depth + 1)\n",
    "        right = Node(self.samples[right], self.labels[right], self.depth + 1)\n",
    "        self.feature = best_feature\n",
    "        self.threshold = best_threshold\n",
    "        self.left, self.right = left, right\n",
    "        left.split(max_depth)\n",
    "        right.split(max_depth)\n",
    "        \n",
    "    def get_proba(self, X_test):\n",
    "        res = []\n",
    "        for point in X_test:\n",
    "            cur_node = self\n",
    "            while cur_node.answer == None:\n",
    "                if point[cur_node.feature] <= cur_node.threshold:\n",
    "                    cur_node = cur_node.left\n",
    "                else:\n",
    "                    cur_node = cur_node.right\n",
    "            res.append(cur_node.answer[0])\n",
    "        return res\n",
    "\n",
    "    def predict(self, X_test):\n",
    "        return list(map(lambda x : 0 if np.random.uniform() < x else 1, self.get_proba(X_test)))\n",
    "        \n",
    "    def accuracy_score(self, X, y_true):\n",
    "        y_pred = self.predict(X)\n",
    "        return sklearn.metrics.accuracy_score(y_true, y_pred)\n",
    "                \n",
    "        \n",
    "def build_tree(data, labels, max_depth=10):\n",
    "    root = Node(data, labels, 0)\n",
    "    root.split(max_depth)\n",
    "    return root\n",
    "\n"
   ]
  },
  {
   "cell_type": "code",
   "execution_count": 73,
   "metadata": {},
   "outputs": [],
   "source": [
    "from sklearn.metrics import roc_curve\n",
    "import matplotlib.pyplot as plt\n",
    "%matplotlib inline\n",
    "\n",
    "def draw_roc_curve(y_true, probs):\n",
    "    frp, tpr, _ = roc_curve(y_true, probs)\n",
    "    plt.plot(tpr.tolist(), frp.tolist())"
   ]
  },
  {
   "cell_type": "code",
   "execution_count": 76,
   "metadata": {},
   "outputs": [],
   "source": [
    "def best_depth(X_train, y_train, X_test, y_test):\n",
    "    best_tree, best_acc = None, None\n",
    "    for depth in range(1, 11):\n",
    "        tree = build_tree(X_train, y_train, depth)\n",
    "        acc = tree.accuracy_score(X_test, y_test)\n",
    "        print(f'Accuracy for depth {depth} is {acc}')\n",
    "        if best_acc is None or best_acc < acc:\n",
    "            best_acc = acc\n",
    "            best_tree = tree\n",
    "    draw_roc_curve(y_test, best_tree.get_proba(X_test))"
   ]
  },
  {
   "cell_type": "code",
   "execution_count": 77,
   "metadata": {},
   "outputs": [
    {
     "name": "stdout",
     "output_type": "stream",
     "text": [
      "Accuracy for depth 1 is 0.8421052631578947\n",
      "Accuracy for depth 2 is 0.8947368421052632\n",
      "Accuracy for depth 3 is 0.9122807017543859\n",
      "Accuracy for depth 4 is 0.9122807017543859\n",
      "Accuracy for depth 5 is 0.9473684210526315\n",
      "Accuracy for depth 6 is 0.9385964912280702\n",
      "Accuracy for depth 7 is 0.9385964912280702\n",
      "Accuracy for depth 8 is 0.9298245614035088\n",
      "Accuracy for depth 9 is 0.9298245614035088\n",
      "Accuracy for depth 10 is 0.9298245614035088\n"
     ]
    },
    {
     "data": {
      "image/png": "[encoded data removed]",
      "text/plain": [
       "<Figure size 432x288 with 1 Axes>"
      ]
     },
     "metadata": {
      "needs_background": "light"
     },
     "output_type": "display_data"
    }
   ],
   "source": [
    "best_depth(cancer_X_train, cancer_y_train, cancer_X_test, cancer_y_test)"
   ]
  },
  {
   "cell_type": "code",
   "execution_count": 78,
   "metadata": {},
   "outputs": [
    {
     "name": "stdout",
     "output_type": "stream",
     "text": [
      "Accuracy for depth 1 is 0.6905537459283387\n",
      "Accuracy for depth 2 is 0.7893593919652552\n",
      "Accuracy for depth 3 is 0.8078175895765473\n",
      "Accuracy for depth 4 is 0.8555917480998915\n",
      "Accuracy for depth 5 is 0.8588490770901195\n",
      "Accuracy for depth 6 is 0.8610206297502715\n",
      "Accuracy for depth 7 is 0.8762214983713354\n",
      "Accuracy for depth 8 is 0.8925081433224755\n",
      "Accuracy for depth 9 is 0.9011943539630836\n",
      "Accuracy for depth 10 is 0.8881650380021715\n"
     ]
    },
    {
     "data": {
      "image/png": "[encoded data removed]",
      "text/plain": [
       "<Figure size 432x288 with 1 Axes>"
      ]
     },
     "metadata": {
      "needs_background": "light"
     },
     "output_type": "display_data"
    }
   ],
   "source": [
    "best_depth(spam_X_train, spam_y_train, spam_X_test, spam_y_test)"
   ]
  },
  {
   "cell_type": "code",
   "execution_count": null,
   "metadata": {},
   "outputs": [],
   "source": []
  }
 ],
 "metadata": {
  "kernelspec": {
   "display_name": "Python 3",
   "language": "python",
   "name": "python3"
  },
  "language_info": {
   "codemirror_mode": {
    "name": "ipython",
    "version": 3
   },
   "file_extension": ".py",
   "mimetype": "text/x-python",
   "name": "python",
   "nbconvert_exporter": "python",
   "pygments_lexer": "ipython3",
   "version": "3.6.2"
  }
 },
 "nbformat": 4,
 "nbformat_minor": 2
}
